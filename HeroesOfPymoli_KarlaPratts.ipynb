{
 "cells": [
  {
   "cell_type": "markdown",
   "metadata": {},
   "source": [
    "### Heroes Of Pymoli Data Analysis\n",
    "* Of the 1163 active players, the vast majority are male (84%). There also exists, a smaller, but notable proportion of female players (14%).\n",
    "\n",
    "* Our peak age demographic falls between 20-24 (44.8%) with secondary groups falling between 15-19 (18.60%) and 25-29 (13.4%).  \n",
    "-----"
   ]
  },
  {
   "cell_type": "markdown",
   "metadata": {},
   "source": [
    "### Note\n",
    "* Instructions have been included for each segment. You do not have to follow them exactly, but they are included to help you think through the steps."
   ]
  },
  {
   "cell_type": "code",
   "execution_count": 81,
   "metadata": {},
   "outputs": [
    {
     "data": {
      "text/html": [
       "<div>\n",
       "<style scoped>\n",
       "    .dataframe tbody tr th:only-of-type {\n",
       "        vertical-align: middle;\n",
       "    }\n",
       "\n",
       "    .dataframe tbody tr th {\n",
       "        vertical-align: top;\n",
       "    }\n",
       "\n",
       "    .dataframe thead th {\n",
       "        text-align: right;\n",
       "    }\n",
       "</style>\n",
       "<table border=\"1\" class=\"dataframe\">\n",
       "  <thead>\n",
       "    <tr style=\"text-align: right;\">\n",
       "      <th></th>\n",
       "      <th>Purchase ID</th>\n",
       "      <th>SN</th>\n",
       "      <th>Age</th>\n",
       "      <th>Gender</th>\n",
       "      <th>Item ID</th>\n",
       "      <th>Item Name</th>\n",
       "      <th>Price</th>\n",
       "    </tr>\n",
       "  </thead>\n",
       "  <tbody>\n",
       "    <tr>\n",
       "      <th>0</th>\n",
       "      <td>0</td>\n",
       "      <td>Lisim78</td>\n",
       "      <td>20</td>\n",
       "      <td>Male</td>\n",
       "      <td>108</td>\n",
       "      <td>Extraction, Quickblade Of Trembling Hands</td>\n",
       "      <td>3.53</td>\n",
       "    </tr>\n",
       "    <tr>\n",
       "      <th>1</th>\n",
       "      <td>1</td>\n",
       "      <td>Lisovynya38</td>\n",
       "      <td>40</td>\n",
       "      <td>Male</td>\n",
       "      <td>143</td>\n",
       "      <td>Frenzied Scimitar</td>\n",
       "      <td>1.56</td>\n",
       "    </tr>\n",
       "    <tr>\n",
       "      <th>2</th>\n",
       "      <td>2</td>\n",
       "      <td>Ithergue48</td>\n",
       "      <td>24</td>\n",
       "      <td>Male</td>\n",
       "      <td>92</td>\n",
       "      <td>Final Critic</td>\n",
       "      <td>4.88</td>\n",
       "    </tr>\n",
       "    <tr>\n",
       "      <th>3</th>\n",
       "      <td>3</td>\n",
       "      <td>Chamassasya86</td>\n",
       "      <td>24</td>\n",
       "      <td>Male</td>\n",
       "      <td>100</td>\n",
       "      <td>Blindscythe</td>\n",
       "      <td>3.27</td>\n",
       "    </tr>\n",
       "    <tr>\n",
       "      <th>4</th>\n",
       "      <td>4</td>\n",
       "      <td>Iskosia90</td>\n",
       "      <td>23</td>\n",
       "      <td>Male</td>\n",
       "      <td>131</td>\n",
       "      <td>Fury</td>\n",
       "      <td>1.44</td>\n",
       "    </tr>\n",
       "  </tbody>\n",
       "</table>\n",
       "</div>"
      ],
      "text/plain": [
       "   Purchase ID             SN  Age Gender  Item ID  \\\n",
       "0            0        Lisim78   20   Male      108   \n",
       "1            1    Lisovynya38   40   Male      143   \n",
       "2            2     Ithergue48   24   Male       92   \n",
       "3            3  Chamassasya86   24   Male      100   \n",
       "4            4      Iskosia90   23   Male      131   \n",
       "\n",
       "                                   Item Name  Price  \n",
       "0  Extraction, Quickblade Of Trembling Hands   3.53  \n",
       "1                          Frenzied Scimitar   1.56  \n",
       "2                               Final Critic   4.88  \n",
       "3                                Blindscythe   3.27  \n",
       "4                                       Fury   1.44  "
      ]
     },
     "execution_count": 81,
     "metadata": {},
     "output_type": "execute_result"
    }
   ],
   "source": [
    "# Dependencies and Setup\n",
    "import pandas as pd\n",
    "import numpy as np\n",
    "\n",
    "# File to Load (Remember to Change These)\n",
    "file_to_load = \"Resources/purchase_data.csv\"\n",
    "\n",
    "# Read Purchasing File and store into Pandas data frame\n",
    "purchase_data = pd.read_csv(file_to_load)\n",
    "purchase_data.head()"
   ]
  },
  {
   "cell_type": "markdown",
   "metadata": {},
   "source": [
    "## Player Count"
   ]
  },
  {
   "cell_type": "markdown",
   "metadata": {},
   "source": [
    "* Display the total number of players\n"
   ]
  },
  {
   "cell_type": "code",
   "execution_count": 82,
   "metadata": {},
   "outputs": [
    {
     "data": {
      "text/plain": [
       "Index(['Purchase ID', 'SN', 'Age', 'Gender', 'Item ID', 'Item Name', 'Price'], dtype='object')"
      ]
     },
     "execution_count": 82,
     "metadata": {},
     "output_type": "execute_result"
    }
   ],
   "source": [
    "#see column names \n",
    "purchase_data.columns"
   ]
  },
  {
   "cell_type": "code",
   "execution_count": 83,
   "metadata": {},
   "outputs": [
    {
     "data": {
      "text/html": [
       "<div>\n",
       "<style scoped>\n",
       "    .dataframe tbody tr th:only-of-type {\n",
       "        vertical-align: middle;\n",
       "    }\n",
       "\n",
       "    .dataframe tbody tr th {\n",
       "        vertical-align: top;\n",
       "    }\n",
       "\n",
       "    .dataframe thead th {\n",
       "        text-align: right;\n",
       "    }\n",
       "</style>\n",
       "<table border=\"1\" class=\"dataframe\">\n",
       "  <thead>\n",
       "    <tr style=\"text-align: right;\">\n",
       "      <th></th>\n",
       "      <th>Total Players</th>\n",
       "    </tr>\n",
       "  </thead>\n",
       "  <tbody>\n",
       "    <tr>\n",
       "      <th>0</th>\n",
       "      <td>576</td>\n",
       "    </tr>\n",
       "  </tbody>\n",
       "</table>\n",
       "</div>"
      ],
      "text/plain": [
       "   Total Players\n",
       "0            576"
      ]
     },
     "execution_count": 83,
     "metadata": {},
     "output_type": "execute_result"
    }
   ],
   "source": [
    "#Player Count, total_players\n",
    "total_players = len(purchase_data['SN'].value_counts())\n",
    "\n",
    "Total_Players = pd.DataFrame({\"Total Players\": total_players}, index=[0])\n",
    "Total_Players"
   ]
  },
  {
   "cell_type": "markdown",
   "metadata": {},
   "source": [
    "## Purchasing Analysis (Total)"
   ]
  },
  {
   "cell_type": "markdown",
   "metadata": {},
   "source": [
    "* Run basic calculations to obtain number of unique items, average price, etc.\n",
    "\n",
    "\n",
    "* Create a summary data frame to hold the results\n",
    "\n",
    "\n",
    "* Optional: give the displayed data cleaner formatting\n",
    "\n",
    "\n",
    "* Display the summary data frame\n"
   ]
  },
  {
   "cell_type": "code",
   "execution_count": 108,
   "metadata": {
    "scrolled": true
   },
   "outputs": [],
   "source": [
    "#unique Items\n",
    "unique_items = len(purchase_data['Item ID'].value_counts()),\n",
    "\n",
    "#average Price\n",
    "average_price = purchase_data['Price'].mean(),\n",
    "\n",
    "#average age of players\n",
    "ave_age = purchase_data['Age'].mean(),\n",
    "\n",
    "#total revenue\n",
    "tot_rev = purchase_data['Price'].sum()\n",
    "\n",
    "# summary data frame to hold the results\n",
    "results = pd.DataFrame({'Unique Items':[unique_items], \n",
    "                        'Avg Price':[average_price], \n",
    "                        'Avg Player Age':[ave_age], \n",
    "                        'Total Revenue':[tot_rev]})\n",
    "#results.style.format({'Avg Price':'${:.2f}'},{'Total Revenue': '${:.2f}'})\n"
   ]
  },
  {
   "cell_type": "code",
   "execution_count": 111,
   "metadata": {},
   "outputs": [
    {
     "data": {
      "text/html": [
       "<div>\n",
       "<style scoped>\n",
       "    .dataframe tbody tr th:only-of-type {\n",
       "        vertical-align: middle;\n",
       "    }\n",
       "\n",
       "    .dataframe tbody tr th {\n",
       "        vertical-align: top;\n",
       "    }\n",
       "\n",
       "    .dataframe thead th {\n",
       "        text-align: right;\n",
       "    }\n",
       "</style>\n",
       "<table border=\"1\" class=\"dataframe\">\n",
       "  <thead>\n",
       "    <tr style=\"text-align: right;\">\n",
       "      <th></th>\n",
       "      <th>Unique Items</th>\n",
       "      <th>Avg Price</th>\n",
       "      <th>Avg Player Age</th>\n",
       "      <th>Total Revenue</th>\n",
       "    </tr>\n",
       "  </thead>\n",
       "  <tbody>\n",
       "    <tr>\n",
       "      <th>0</th>\n",
       "      <td>(183,)</td>\n",
       "      <td>(3.050987179487176,)</td>\n",
       "      <td>(22.714102564102564,)</td>\n",
       "      <td>2379.77</td>\n",
       "    </tr>\n",
       "  </tbody>\n",
       "</table>\n",
       "</div>"
      ],
      "text/plain": [
       "  Unique Items             Avg Price         Avg Player Age  Total Revenue\n",
       "0       (183,)  (3.050987179487176,)  (22.714102564102564,)        2379.77"
      ]
     },
     "execution_count": 111,
     "metadata": {},
     "output_type": "execute_result"
    }
   ],
   "source": [
    "unique_items\n",
    "average_price\n",
    "ave_age\n",
    "tot_rev.round(2)\n",
    "results"
   ]
  },
  {
   "cell_type": "code",
   "execution_count": 86,
   "metadata": {},
   "outputs": [],
   "source": [
    "# Use Map to format all the columns\n",
    "#purchase_data[\"average_price\"]=purchase_data[\"average_price\"].map(\""
   ]
  },
  {
   "cell_type": "markdown",
   "metadata": {},
   "source": [
    "## Gender Demographics"
   ]
  },
  {
   "cell_type": "markdown",
   "metadata": {},
   "source": [
    "* Percentage and Count of Male Players\n",
    "\n",
    "\n",
    "* Percentage and Count of Female Players\n",
    "\n",
    "\n",
    "* Percentage and Count of Other / Non-Disclosed\n",
    "\n",
    "\n"
   ]
  },
  {
   "cell_type": "code",
   "execution_count": 99,
   "metadata": {},
   "outputs": [
    {
     "data": {
      "text/html": [
       "<style  type=\"text/css\" >\n",
       "</style>  \n",
       "<table id=\"T_60fe3d1e_79ce_11e9_949c_34e12de40245\" > \n",
       "<thead>    <tr> \n",
       "        <th class=\"blank level0\" ></th> \n",
       "        <th class=\"col_heading level0 col0\" >% of Players</th> \n",
       "        <th class=\"col_heading level0 col1\" >Total Count</th> \n",
       "    </tr></thead> \n",
       "<tbody>    <tr> \n",
       "        <th id=\"T_60fe3d1e_79ce_11e9_949c_34e12de40245level0_row0\" class=\"row_heading level0 row0\" >Male</th> \n",
       "        <td id=\"T_60fe3d1e_79ce_11e9_949c_34e12de40245row0_col0\" class=\"data row0 col0\" >84.03%</td> \n",
       "        <td id=\"T_60fe3d1e_79ce_11e9_949c_34e12de40245row0_col1\" class=\"data row0 col1\" >484</td> \n",
       "    </tr>    <tr> \n",
       "        <th id=\"T_60fe3d1e_79ce_11e9_949c_34e12de40245level0_row1\" class=\"row_heading level0 row1\" >Female</th> \n",
       "        <td id=\"T_60fe3d1e_79ce_11e9_949c_34e12de40245row1_col0\" class=\"data row1 col0\" >14.06%</td> \n",
       "        <td id=\"T_60fe3d1e_79ce_11e9_949c_34e12de40245row1_col1\" class=\"data row1 col1\" >81</td> \n",
       "    </tr>    <tr> \n",
       "        <th id=\"T_60fe3d1e_79ce_11e9_949c_34e12de40245level0_row2\" class=\"row_heading level0 row2\" >Other/Non-Disclosed</th> \n",
       "        <td id=\"T_60fe3d1e_79ce_11e9_949c_34e12de40245row2_col0\" class=\"data row2 col0\" >1.91%</td> \n",
       "        <td id=\"T_60fe3d1e_79ce_11e9_949c_34e12de40245row2_col1\" class=\"data row2 col1\" >11</td> \n",
       "    </tr></tbody> \n",
       "</table> "
      ],
      "text/plain": [
       "<pandas.io.formats.style.Styler at 0x21d9e878588>"
      ]
     },
     "execution_count": 99,
     "metadata": {},
     "output_type": "execute_result"
    }
   ],
   "source": [
    "#Percentage and Count of Male Players\n",
    "\n",
    "#variables\n",
    "IsMale = purchase_data['Gender']=='Male'\n",
    "IsFemale = purchase_data['Gender']=='Female'\n",
    "IsNoGend = (purchase_data['Gender']!='Male') & (purchase_data['Gender']!='Female')\n",
    "indexGen = ['Male', 'Female', 'Other/Non-Disclosed']\n",
    "\n",
    "#getting count of all player genders, no repeat purchases\n",
    "MaleCt =  purchase_data[IsMale]['SN'].nunique()\n",
    "FemCt = purchase_data[IsFemale ]['SN'].nunique()\n",
    "NAGendCt = purchase_data[IsNoGend]['SN'].nunique()\n",
    "GendCt = pd.Series([MaleCt, FemCt, NAGendCt], index=indexGen)\n",
    "\n",
    "#getting % of all player genders\n",
    "MalePerc = (MaleCt/total_players)*100 \n",
    "FemPerc = (FemCt/total_players)*100\n",
    "NAPerc = (NAGendCt/total_players)*100\n",
    "GendPerc = pd.Series([MalePerc, FemPerc, NAPerc], index=indexGen)\n",
    "\n",
    "#formating the results to show as percentage\n",
    "Gen_df = pd.DataFrame({'% of Players':GendPerc, 'Total Count':GendCt}).round(2)\n",
    "Gen_df.style.format({\"% of Players\": \"{:.2f}%\"})"
   ]
  },
  {
   "cell_type": "markdown",
   "metadata": {},
   "source": [
    "\n",
    "## Purchasing Analysis (Gender)"
   ]
  },
  {
   "cell_type": "markdown",
   "metadata": {},
   "source": [
    "* Run basic calculations to obtain purchase count, avg. purchase price, avg. purchase total per person etc. by gender\n",
    "\n",
    "\n",
    "\n",
    "\n",
    "* Create a summary data frame to hold the results\n",
    "\n",
    "\n",
    "* Optional: give the displayed data cleaner formatting\n",
    "\n",
    "\n",
    "* Display the summary data frame"
   ]
  },
  {
   "cell_type": "code",
   "execution_count": 104,
   "metadata": {},
   "outputs": [
    {
     "data": {
      "text/html": [
       "<div>\n",
       "<style scoped>\n",
       "    .dataframe tbody tr th:only-of-type {\n",
       "        vertical-align: middle;\n",
       "    }\n",
       "\n",
       "    .dataframe tbody tr th {\n",
       "        vertical-align: top;\n",
       "    }\n",
       "\n",
       "    .dataframe thead th {\n",
       "        text-align: right;\n",
       "    }\n",
       "</style>\n",
       "<table border=\"1\" class=\"dataframe\">\n",
       "  <thead>\n",
       "    <tr style=\"text-align: right;\">\n",
       "      <th></th>\n",
       "      <th>Purchase Count</th>\n",
       "      <th>Average Purchase Price</th>\n",
       "      <th>Total Purchase Value</th>\n",
       "      <th>Normalized Totals</th>\n",
       "    </tr>\n",
       "  </thead>\n",
       "  <tbody>\n",
       "    <tr>\n",
       "      <th>Male</th>\n",
       "      <td>652</td>\n",
       "      <td>3.017853</td>\n",
       "      <td>1967.64</td>\n",
       "      <td>4.065372</td>\n",
       "    </tr>\n",
       "    <tr>\n",
       "      <th>Female</th>\n",
       "      <td>113</td>\n",
       "      <td>3.203009</td>\n",
       "      <td>361.94</td>\n",
       "      <td>4.470000</td>\n",
       "    </tr>\n",
       "    <tr>\n",
       "      <th>Other/Non-Disclosed</th>\n",
       "      <td>15</td>\n",
       "      <td>3.346000</td>\n",
       "      <td>50.19</td>\n",
       "      <td>4.562727</td>\n",
       "    </tr>\n",
       "  </tbody>\n",
       "</table>\n",
       "</div>"
      ],
      "text/plain": [
       "                     Purchase Count  Average Purchase Price  \\\n",
       "Male                            652                3.017853   \n",
       "Female                          113                3.203009   \n",
       "Other/Non-Disclosed              15                3.346000   \n",
       "\n",
       "                     Total Purchase Value  Normalized Totals  \n",
       "Male                              1967.64           4.065372  \n",
       "Female                             361.94           4.470000  \n",
       "Other/Non-Disclosed                 50.19           4.562727  "
      ]
     },
     "execution_count": 104,
     "metadata": {},
     "output_type": "execute_result"
    }
   ],
   "source": [
    "# count multiple purchases by the same person \n",
    "MaleCt2 = purchase_data[IsMale].count()\n",
    "MaleCt2 = MaleCt2['SN']\n",
    "FemCt2 = purchase_data[IsFemale].count()\n",
    "FemCt2 = FemCt2['SN']\n",
    "NAGendCt2 = purchase_data[IsNoGend].count()\n",
    "NAGendCt2 = NAGendCt2['SN']\n",
    "GendCt_s = pd.Series([MaleCt2, FemCt2, NAGendCt2], index=indexGen)\n",
    "\n",
    "avgPurchPr_M = purchase_data[IsMale]['Price'].mean()\n",
    "avgPurchPr_F = purchase_data[IsFemale]['Price'].mean()\n",
    "avgPurchPr_N = purchase_data[IsNoGend]['Price'].mean()\n",
    "GendPurchAvg_s = pd.Series([avgPurchPr_M, avgPurchPr_F, avgPurchPr_N], index = indexGen)\n",
    "\n",
    "totlPurchV_M =  purchase_data[IsMale]['Price'].sum()\n",
    "totlPurchV_F = purchase_data[IsFemale]['Price'].sum()\n",
    "totlPurchV_N = purchase_data[IsNoGend]['Price'].sum()\n",
    "GendPurchTot_s = pd.Series([totlPurchV_M, totlPurchV_F, totlPurchV_N], index = indexGen)\n",
    "\n",
    "#average of the totals per person of each gender\n",
    "#count (...Ct) variables taken from **Gender Demographics** section. only unique SNs \n",
    "normTotl_M = totlPurchV_M / MaleCt\n",
    "normTotl_F = (totlPurchV_F / FemCt).round(2)\n",
    "normTotl_N = totlPurchV_N / NAGendCt\n",
    "GendNormTot_s = pd.Series([normTotl_M, normTotl_F, normTotl_N], index = indexGen)\n",
    "\n",
    "# Create new dataframe to visualize results\n",
    "GendPurch_df = pd.DataFrame({'Purchase Count':GendCt_s, 'Average Purchase Price':GendPurchAvg_s,\\\n",
    "                            'Total Purchase Value':GendPurchTot_s, 'Normalized Totals':GendNormTot_s})\n",
    "GendPurch_df.reindex(columns=['Purchase Count', 'Average Purchase Price', 'Total Purchase Value', 'Normalized Totals'])"
   ]
  },
  {
   "cell_type": "markdown",
   "metadata": {},
   "source": [
    "## Age Demographics"
   ]
  },
  {
   "cell_type": "markdown",
   "metadata": {},
   "source": [
    "* Establish bins for ages\n",
    "\n",
    "\n",
    "* Categorize the existing players using the age bins. Hint: use pd.cut()\n",
    "\n",
    "\n",
    "* Calculate the numbers and percentages by age group\n",
    "\n",
    "\n",
    "* Create a summary data frame to hold the results\n",
    "\n",
    "\n",
    "* Optional: round the percentage column to two decimal points\n",
    "\n",
    "\n",
    "* Display Age Demographics Table\n"
   ]
  },
  {
   "cell_type": "code",
   "execution_count": 89,
   "metadata": {},
   "outputs": [
    {
     "data": {
      "text/html": [
       "<style  type=\"text/css\" >\n",
       "</style>  \n",
       "<table id=\"T_c3e6f1c6_79cd_11e9_8223_34e12de40245\" > \n",
       "<thead>    <tr> \n",
       "        <th class=\"blank level0\" ></th> \n",
       "        <th class=\"col_heading level0 col0\" >Percentage of Players</th> \n",
       "        <th class=\"col_heading level0 col1\" >Total Count</th> \n",
       "    </tr>    <tr> \n",
       "        <th class=\"index_name level0\" >Gender</th> \n",
       "        <th class=\"blank\" ></th> \n",
       "        <th class=\"blank\" ></th> \n",
       "    </tr></thead> \n",
       "<tbody>    <tr> \n",
       "        <th id=\"T_c3e6f1c6_79cd_11e9_8223_34e12de40245level0_row0\" class=\"row_heading level0 row0\" >Male</th> \n",
       "        <td id=\"T_c3e6f1c6_79cd_11e9_8223_34e12de40245row0_col0\" class=\"data row0 col0\" >84.03%</td> \n",
       "        <td id=\"T_c3e6f1c6_79cd_11e9_8223_34e12de40245row0_col1\" class=\"data row0 col1\" >484</td> \n",
       "    </tr>    <tr> \n",
       "        <th id=\"T_c3e6f1c6_79cd_11e9_8223_34e12de40245level0_row1\" class=\"row_heading level0 row1\" >Female</th> \n",
       "        <td id=\"T_c3e6f1c6_79cd_11e9_8223_34e12de40245row1_col0\" class=\"data row1 col0\" >14.06%</td> \n",
       "        <td id=\"T_c3e6f1c6_79cd_11e9_8223_34e12de40245row1_col1\" class=\"data row1 col1\" >81</td> \n",
       "    </tr>    <tr> \n",
       "        <th id=\"T_c3e6f1c6_79cd_11e9_8223_34e12de40245level0_row2\" class=\"row_heading level0 row2\" >Other / Non-Disclosed</th> \n",
       "        <td id=\"T_c3e6f1c6_79cd_11e9_8223_34e12de40245row2_col0\" class=\"data row2 col0\" >1.91%</td> \n",
       "        <td id=\"T_c3e6f1c6_79cd_11e9_8223_34e12de40245row2_col1\" class=\"data row2 col1\" >11</td> \n",
       "    </tr></tbody> \n",
       "</table> "
      ],
      "text/plain": [
       "<pandas.io.formats.style.Styler at 0x21d9e6b0e48>"
      ]
     },
     "execution_count": 89,
     "metadata": {},
     "output_type": "execute_result"
    }
   ],
   "source": [
    "purchase_data\n",
    "\n",
    "fullcount = purchase_data[\"SN\"].nunique()\n",
    "malecount = purchase_data[purchase_data[\"Gender\"] == \"Male\"][\"SN\"].nunique()\n",
    "femalecount = purchase_data[purchase_data[\"Gender\"] == \"Female\"][\"SN\"].nunique()\n",
    "othercount = fullcount - malecount - femalecount\n",
    "maleperc = ((malecount/fullcount)*100)\n",
    "femaleperc = ((femalecount/fullcount)*100)\n",
    "otherperc = ((othercount/fullcount)*100)\n",
    "\n",
    "gender_demo_df = pd.DataFrame({\"Gender\": [\"Male\", \"Female\", \"Other / Non-Disclosed\"], \"Percentage of Players\": [maleperc, femaleperc, otherperc],\n",
    "                                        \"Total Count\": [malecount, femalecount, othercount]}, columns = \n",
    "                                        [\"Gender\", \"Percentage of Players\", \"Total Count\"])\n",
    "                                        \n",
    "gender_demo_final = gender_demo_df.set_index(\"Gender\")\n",
    "gender_demo_final.style.format({\"Percentage of Players\": \"{:.2f}%\"})"
   ]
  },
  {
   "cell_type": "markdown",
   "metadata": {},
   "source": [
    "## Purchasing Analysis (Age)"
   ]
  },
  {
   "cell_type": "markdown",
   "metadata": {},
   "source": [
    "* Bin the purchase_data data frame by age\n",
    "\n",
    "\n",
    "* Run basic calculations to obtain purchase count, avg. purchase price, avg. purchase total per person etc. in the table below\n",
    "\n",
    "\n",
    "* Create a summary data frame to hold the results\n",
    "\n",
    "\n",
    "* Optional: give the displayed data cleaner formatting\n",
    "\n",
    "\n",
    "* Display the summary data frame"
   ]
  },
  {
   "cell_type": "code",
   "execution_count": 90,
   "metadata": {},
   "outputs": [
    {
     "data": {
      "text/html": [
       "<div>\n",
       "<style scoped>\n",
       "    .dataframe tbody tr th:only-of-type {\n",
       "        vertical-align: middle;\n",
       "    }\n",
       "\n",
       "    .dataframe tbody tr th {\n",
       "        vertical-align: top;\n",
       "    }\n",
       "\n",
       "    .dataframe thead th {\n",
       "        text-align: right;\n",
       "    }\n",
       "</style>\n",
       "<table border=\"1\" class=\"dataframe\">\n",
       "  <thead>\n",
       "    <tr style=\"text-align: right;\">\n",
       "      <th></th>\n",
       "      <th>Purchase Count</th>\n",
       "      <th>Average Purchase Price</th>\n",
       "      <th>Total Purchase Value</th>\n",
       "      <th>Normalized Totals</th>\n",
       "    </tr>\n",
       "    <tr>\n",
       "      <th>Age Range</th>\n",
       "      <th></th>\n",
       "      <th></th>\n",
       "      <th></th>\n",
       "      <th></th>\n",
       "    </tr>\n",
       "  </thead>\n",
       "  <tbody>\n",
       "    <tr>\n",
       "      <th>&lt;10</th>\n",
       "      <td>23</td>\n",
       "      <td>3.353478</td>\n",
       "      <td>77.13</td>\n",
       "      <td>4.537059</td>\n",
       "    </tr>\n",
       "    <tr>\n",
       "      <th>10-14</th>\n",
       "      <td>28</td>\n",
       "      <td>2.956429</td>\n",
       "      <td>82.78</td>\n",
       "      <td>3.762727</td>\n",
       "    </tr>\n",
       "    <tr>\n",
       "      <th>15-19</th>\n",
       "      <td>136</td>\n",
       "      <td>3.035956</td>\n",
       "      <td>412.89</td>\n",
       "      <td>3.858785</td>\n",
       "    </tr>\n",
       "    <tr>\n",
       "      <th>20-24</th>\n",
       "      <td>365</td>\n",
       "      <td>3.052219</td>\n",
       "      <td>1114.06</td>\n",
       "      <td>4.318062</td>\n",
       "    </tr>\n",
       "    <tr>\n",
       "      <th>25-29</th>\n",
       "      <td>101</td>\n",
       "      <td>2.900990</td>\n",
       "      <td>293.00</td>\n",
       "      <td>3.805195</td>\n",
       "    </tr>\n",
       "    <tr>\n",
       "      <th>30-34</th>\n",
       "      <td>73</td>\n",
       "      <td>2.931507</td>\n",
       "      <td>214.00</td>\n",
       "      <td>4.115385</td>\n",
       "    </tr>\n",
       "    <tr>\n",
       "      <th>35-39</th>\n",
       "      <td>41</td>\n",
       "      <td>3.601707</td>\n",
       "      <td>147.67</td>\n",
       "      <td>4.763548</td>\n",
       "    </tr>\n",
       "    <tr>\n",
       "      <th>40+</th>\n",
       "      <td>13</td>\n",
       "      <td>2.941538</td>\n",
       "      <td>38.24</td>\n",
       "      <td>3.186667</td>\n",
       "    </tr>\n",
       "  </tbody>\n",
       "</table>\n",
       "</div>"
      ],
      "text/plain": [
       "           Purchase Count  Average Purchase Price  Total Purchase Value  \\\n",
       "Age Range                                                                 \n",
       "<10                    23                3.353478                 77.13   \n",
       "10-14                  28                2.956429                 82.78   \n",
       "15-19                 136                3.035956                412.89   \n",
       "20-24                 365                3.052219               1114.06   \n",
       "25-29                 101                2.900990                293.00   \n",
       "30-34                  73                2.931507                214.00   \n",
       "35-39                  41                3.601707                147.67   \n",
       "40+                    13                2.941538                 38.24   \n",
       "\n",
       "           Normalized Totals  \n",
       "Age Range                     \n",
       "<10                 4.537059  \n",
       "10-14               3.762727  \n",
       "15-19               3.858785  \n",
       "20-24               4.318062  \n",
       "25-29               3.805195  \n",
       "30-34               4.115385  \n",
       "35-39               4.763548  \n",
       "40+                 3.186667  "
      ]
     },
     "execution_count": 90,
     "metadata": {},
     "output_type": "execute_result"
    }
   ],
   "source": [
    "#purchase_data['Age']: max==40, min==7\n",
    "#create bins and append 'Age Range' to purchase_data\n",
    "bins=[0, 10, 15, 20, 25, 30, 35, 40, 150]\n",
    "labels=['<10', '10-14', '15-19', '20-24', '25-29', '30-34', '35-39', '40+']\n",
    "\n",
    "#purchase_data['Age']: max==40, min==7\n",
    "#create bins and append 'Age Range' to purchase_data\n",
    "bins=[0, 10, 15, 20, 25, 30, 35, 40, 150]\n",
    "labels=['<10', '10-14', '15-19', '20-24', '25-29', '30-34', '35-39', '40+']\n",
    "purchase_data['Age Range'] = pd.cut(purchase_data['Age'], bins=bins, right=False, labels=labels)\n",
    "PurchAges = purchase_data.groupby('Age Range')\n",
    "\n",
    "#Purchase Count\n",
    "PurchAgeCt = PurchAges['SN'].count()\n",
    "#Average Purchase Price\n",
    "avgPurchP = PurchAges['Price'].mean()\n",
    "#Total Purchase Value\n",
    "totlPurchV = PurchAges['Price'].sum()\n",
    "#Normalized Totals. I'm guessing this to be (total/# of players) for each age group\n",
    "normPurchV = totlPurchV / PurchAges['SN'].nunique()\n",
    "\n",
    "#concatenate ALL the columns!!!\n",
    "AgePurch_df = pd.concat({'Purchase Count':PurchAgeCt, 'Average Purchase Price':avgPurchP,\\\n",
    "                            'Total Purchase Value':totlPurchV, 'Normalized Totals':normPurchV}, axis=1)\n",
    "#fix column order\n",
    "AgePurch_df.reindex(columns = ['Purchase Count', 'Average Purchase Price', 'Total Purchase Value', 'Normalized Totals'])['Age Range'] = pd.cut(purchase_data['Age'], bins=bins, right=False, labels=labels)\n",
    "PurchAges = purchase_data.groupby('Age Range')\n",
    "\n",
    "#Purchase Count\n",
    "PurchAgeCt = PurchAges['SN'].count()\n",
    "#Average Purchase Price\n",
    "avgPurchP = PurchAges['Price'].mean()\n",
    "#Total Purchase Value\n",
    "totlPurchV = PurchAges['Price'].sum()\n",
    "#Normalized Totals. I'm guessing this to be (total/# of players) for each age group\n",
    "normPurchV = totlPurchV / PurchAges['SN'].nunique()\n",
    "\n",
    "#concatenate ALL the columns!!!\n",
    "AgePurch_df = pd.concat({'Purchase Count':PurchAgeCt, 'Average Purchase Price':avgPurchP,\\\n",
    "                            'Total Purchase Value':totlPurchV, 'Normalized Totals':normPurchV}, axis=1)\n",
    "#fix column order\n",
    "AgePurch_df.reindex(columns = ['Purchase Count', 'Average Purchase Price', 'Total Purchase Value', 'Normalized Totals'])"
   ]
  },
  {
   "cell_type": "markdown",
   "metadata": {},
   "source": [
    "## Top Spenders"
   ]
  },
  {
   "cell_type": "markdown",
   "metadata": {},
   "source": [
    "* Run basic calculations to obtain the results in the table below\n",
    "\n",
    "\n",
    "* Create a summary data frame to hold the results\n",
    "\n",
    "\n",
    "* Sort the total purchase value column in descending order\n",
    "\n",
    "\n",
    "* Optional: give the displayed data cleaner formatting\n",
    "\n",
    "\n",
    "* Display a preview of the summary data frame\n",
    "\n"
   ]
  },
  {
   "cell_type": "code",
   "execution_count": 91,
   "metadata": {},
   "outputs": [
    {
     "data": {
      "text/html": [
       "<style  type=\"text/css\" >\n",
       "</style>  \n",
       "<table id=\"T_c3ed7c24_79cd_11e9_bc50_34e12de40245\" > \n",
       "<thead>    <tr> \n",
       "        <th class=\"blank level0\" ></th> \n",
       "        <th class=\"col_heading level0 col0\" >Purchase Count</th> \n",
       "        <th class=\"col_heading level0 col1\" >Average Purchase Price</th> \n",
       "        <th class=\"col_heading level0 col2\" >Total Purchase Value</th> \n",
       "    </tr>    <tr> \n",
       "        <th class=\"index_name level0\" >SN</th> \n",
       "        <th class=\"blank\" ></th> \n",
       "        <th class=\"blank\" ></th> \n",
       "        <th class=\"blank\" ></th> \n",
       "    </tr></thead> \n",
       "<tbody>    <tr> \n",
       "        <th id=\"T_c3ed7c24_79cd_11e9_bc50_34e12de40245level0_row0\" class=\"row_heading level0 row0\" >Lisosia93</th> \n",
       "        <td id=\"T_c3ed7c24_79cd_11e9_bc50_34e12de40245row0_col0\" class=\"data row0 col0\" >5</td> \n",
       "        <td id=\"T_c3ed7c24_79cd_11e9_bc50_34e12de40245row0_col1\" class=\"data row0 col1\" >$3.79</td> \n",
       "        <td id=\"T_c3ed7c24_79cd_11e9_bc50_34e12de40245row0_col2\" class=\"data row0 col2\" >$18.96</td> \n",
       "    </tr>    <tr> \n",
       "        <th id=\"T_c3ed7c24_79cd_11e9_bc50_34e12de40245level0_row1\" class=\"row_heading level0 row1\" >Idastidru52</th> \n",
       "        <td id=\"T_c3ed7c24_79cd_11e9_bc50_34e12de40245row1_col0\" class=\"data row1 col0\" >4</td> \n",
       "        <td id=\"T_c3ed7c24_79cd_11e9_bc50_34e12de40245row1_col1\" class=\"data row1 col1\" >$3.86</td> \n",
       "        <td id=\"T_c3ed7c24_79cd_11e9_bc50_34e12de40245row1_col2\" class=\"data row1 col2\" >$15.45</td> \n",
       "    </tr>    <tr> \n",
       "        <th id=\"T_c3ed7c24_79cd_11e9_bc50_34e12de40245level0_row2\" class=\"row_heading level0 row2\" >Chamjask73</th> \n",
       "        <td id=\"T_c3ed7c24_79cd_11e9_bc50_34e12de40245row2_col0\" class=\"data row2 col0\" >3</td> \n",
       "        <td id=\"T_c3ed7c24_79cd_11e9_bc50_34e12de40245row2_col1\" class=\"data row2 col1\" >$4.61</td> \n",
       "        <td id=\"T_c3ed7c24_79cd_11e9_bc50_34e12de40245row2_col2\" class=\"data row2 col2\" >$13.83</td> \n",
       "    </tr>    <tr> \n",
       "        <th id=\"T_c3ed7c24_79cd_11e9_bc50_34e12de40245level0_row3\" class=\"row_heading level0 row3\" >Iral74</th> \n",
       "        <td id=\"T_c3ed7c24_79cd_11e9_bc50_34e12de40245row3_col0\" class=\"data row3 col0\" >4</td> \n",
       "        <td id=\"T_c3ed7c24_79cd_11e9_bc50_34e12de40245row3_col1\" class=\"data row3 col1\" >$3.40</td> \n",
       "        <td id=\"T_c3ed7c24_79cd_11e9_bc50_34e12de40245row3_col2\" class=\"data row3 col2\" >$13.62</td> \n",
       "    </tr>    <tr> \n",
       "        <th id=\"T_c3ed7c24_79cd_11e9_bc50_34e12de40245level0_row4\" class=\"row_heading level0 row4\" >Iskadarya95</th> \n",
       "        <td id=\"T_c3ed7c24_79cd_11e9_bc50_34e12de40245row4_col0\" class=\"data row4 col0\" >3</td> \n",
       "        <td id=\"T_c3ed7c24_79cd_11e9_bc50_34e12de40245row4_col1\" class=\"data row4 col1\" >$4.37</td> \n",
       "        <td id=\"T_c3ed7c24_79cd_11e9_bc50_34e12de40245row4_col2\" class=\"data row4 col2\" >$13.10</td> \n",
       "    </tr></tbody> \n",
       "</table> "
      ],
      "text/plain": [
       "<pandas.io.formats.style.Styler at 0x21d9e7c71d0>"
      ]
     },
     "execution_count": 91,
     "metadata": {},
     "output_type": "execute_result"
    }
   ],
   "source": [
    "sn_total_purchase = purchase_data.groupby('SN')['Price'].sum().to_frame()\n",
    "sn_purchase_count = purchase_data.groupby('SN')['Price'].count().to_frame()\n",
    "sn_purchase_avg = purchase_data.groupby('SN')['Price'].mean().to_frame()\n",
    "\n",
    "sn_total_purchase.columns=[\"Total Purchase Value\"]\n",
    "join_one = sn_total_purchase.join(sn_purchase_count, how=\"left\")\n",
    "join_one.columns=[\"Total Purchase Value\", \"Purchase Count\"]\n",
    "\n",
    "join_two = join_one.join(sn_purchase_avg, how=\"inner\")\n",
    "join_two.columns=[\"Total Purchase Value\", \"Purchase Count\", \"Average Purchase Price\"]\n",
    "\n",
    "top_spenders_df = join_two[[\"Purchase Count\", \"Average Purchase Price\", \"Total Purchase Value\"]]\n",
    "top_spenders_final = top_spenders_df.sort_values('Total Purchase Value', ascending=False).head()\n",
    "top_spenders_final.style.format({\"Average Purchase Price\": \"${:.2f}\", \"Total Purchase Value\": \"${:.2f}\"})"
   ]
  },
  {
   "cell_type": "markdown",
   "metadata": {},
   "source": [
    "## Most Popular Items"
   ]
  },
  {
   "cell_type": "markdown",
   "metadata": {},
   "source": [
    "* Retrieve the Item ID, Item Name, and Item Price columns\n",
    "\n",
    "\n",
    "* Group by Item ID and Item Name. Perform calculations to obtain purchase count, item price, and total purchase value\n",
    "\n",
    "\n",
    "* Create a summary data frame to hold the results\n",
    "\n",
    "\n",
    "* Sort the purchase count column in descending order\n",
    "\n",
    "\n",
    "* Optional: give the displayed data cleaner formatting\n",
    "\n",
    "\n",
    "* Display a preview of the summary data frame\n",
    "\n"
   ]
  },
  {
   "cell_type": "code",
   "execution_count": 92,
   "metadata": {},
   "outputs": [
    {
     "data": {
      "text/html": [
       "<div>\n",
       "<style scoped>\n",
       "    .dataframe tbody tr th:only-of-type {\n",
       "        vertical-align: middle;\n",
       "    }\n",
       "\n",
       "    .dataframe tbody tr th {\n",
       "        vertical-align: top;\n",
       "    }\n",
       "\n",
       "    .dataframe thead th {\n",
       "        text-align: right;\n",
       "    }\n",
       "</style>\n",
       "<table border=\"1\" class=\"dataframe\">\n",
       "  <thead>\n",
       "    <tr style=\"text-align: right;\">\n",
       "      <th></th>\n",
       "      <th>Item Name</th>\n",
       "      <th>Purchase Count</th>\n",
       "      <th>Item Price</th>\n",
       "      <th>Total Purchase Value</th>\n",
       "    </tr>\n",
       "    <tr>\n",
       "      <th>Item ID</th>\n",
       "      <th></th>\n",
       "      <th></th>\n",
       "      <th></th>\n",
       "      <th></th>\n",
       "    </tr>\n",
       "  </thead>\n",
       "  <tbody>\n",
       "    <tr>\n",
       "      <th>42</th>\n",
       "      <td>[The Decapitator]</td>\n",
       "      <td>1</td>\n",
       "      <td>[1.75]</td>\n",
       "      <td>1.75</td>\n",
       "    </tr>\n",
       "    <tr>\n",
       "      <th>104</th>\n",
       "      <td>[Gladiator's Glaive]</td>\n",
       "      <td>1</td>\n",
       "      <td>[1.93]</td>\n",
       "      <td>1.93</td>\n",
       "    </tr>\n",
       "    <tr>\n",
       "      <th>23</th>\n",
       "      <td>[Crucifer]</td>\n",
       "      <td>1</td>\n",
       "      <td>[1.99]</td>\n",
       "      <td>1.99</td>\n",
       "    </tr>\n",
       "    <tr>\n",
       "      <th>126</th>\n",
       "      <td>[Exiled Mithril Longsword]</td>\n",
       "      <td>1</td>\n",
       "      <td>[2.0]</td>\n",
       "      <td>2.00</td>\n",
       "    </tr>\n",
       "    <tr>\n",
       "      <th>118</th>\n",
       "      <td>[Ghost Reaver, Longsword of Magic]</td>\n",
       "      <td>1</td>\n",
       "      <td>[2.17]</td>\n",
       "      <td>2.17</td>\n",
       "    </tr>\n",
       "  </tbody>\n",
       "</table>\n",
       "</div>"
      ],
      "text/plain": [
       "                                  Item Name  Purchase Count Item Price  \\\n",
       "Item ID                                                                  \n",
       "42                        [The Decapitator]               1     [1.75]   \n",
       "104                    [Gladiator's Glaive]               1     [1.93]   \n",
       "23                               [Crucifer]               1     [1.99]   \n",
       "126              [Exiled Mithril Longsword]               1      [2.0]   \n",
       "118      [Ghost Reaver, Longsword of Magic]               1     [2.17]   \n",
       "\n",
       "         Total Purchase Value  \n",
       "Item ID                        \n",
       "42                       1.75  \n",
       "104                      1.93  \n",
       "23                       1.99  \n",
       "126                      2.00  \n",
       "118                      2.17  "
      ]
     },
     "execution_count": 92,
     "metadata": {},
     "output_type": "execute_result"
    }
   ],
   "source": [
    "purchase_data\n",
    "#initial group by\n",
    "Item_GBy = purchase_data.groupby('Item ID')\n",
    "\n",
    "#Getting Item Name, Purchase Count, Item Price, Total Purchase Value\n",
    "#ItmName and ItmPr only works when a function is called to them \n",
    "ItmName = Item_GBy['Item Name'].unique()\n",
    "PurchCt = Item_GBy['Price'].count()\n",
    "ItmPr = Item_GBy['Price'].unique()\n",
    "totlItemV = Item_GBy['Price'].sum()\n",
    "\n",
    "#Form vars into new dataframe, sort first by Purchase count, then by total purchase value, then format & view\n",
    "PopItm_df = pd.DataFrame({'Item Name':ItmName, 'Purchase Count': PurchCt,\\\n",
    "                      'Item Price':ItmPr, 'Total Purchase Value': totlItemV})\n",
    "PopItm_df = PopItm_df.sort_values(['Purchase Count', 'Total Purchase Value'], ascending=True)\n",
    "PopItm_df = PopItm_df.reindex(columns=['Item Name', 'Purchase Count', 'Item Price', 'Total Purchase Value'])\n",
    "PopItm_df.head()"
   ]
  },
  {
   "cell_type": "markdown",
   "metadata": {},
   "source": [
    "## Most Profitable Items"
   ]
  },
  {
   "cell_type": "markdown",
   "metadata": {},
   "source": [
    "* Sort the above table by total purchase value in descending order\n",
    "\n",
    "\n",
    "* Optional: give the displayed data cleaner formatting\n",
    "\n",
    "\n",
    "* Display a preview of the data frame\n",
    "\n"
   ]
  },
  {
   "cell_type": "code",
   "execution_count": 93,
   "metadata": {
    "scrolled": true
   },
   "outputs": [
    {
     "data": {
      "text/html": [
       "<div>\n",
       "<style scoped>\n",
       "    .dataframe tbody tr th:only-of-type {\n",
       "        vertical-align: middle;\n",
       "    }\n",
       "\n",
       "    .dataframe tbody tr th {\n",
       "        vertical-align: top;\n",
       "    }\n",
       "\n",
       "    .dataframe thead th {\n",
       "        text-align: right;\n",
       "    }\n",
       "</style>\n",
       "<table border=\"1\" class=\"dataframe\">\n",
       "  <thead>\n",
       "    <tr style=\"text-align: right;\">\n",
       "      <th></th>\n",
       "      <th>Item Name</th>\n",
       "      <th>Purchase Count</th>\n",
       "      <th>Item Price</th>\n",
       "      <th>Total Purchase Value</th>\n",
       "    </tr>\n",
       "    <tr>\n",
       "      <th>Item ID</th>\n",
       "      <th></th>\n",
       "      <th></th>\n",
       "      <th></th>\n",
       "      <th></th>\n",
       "    </tr>\n",
       "  </thead>\n",
       "  <tbody>\n",
       "    <tr>\n",
       "      <th>178</th>\n",
       "      <td>[Oathbreaker, Last Hope of the Breaking Storm]</td>\n",
       "      <td>12</td>\n",
       "      <td>[4.23]</td>\n",
       "      <td>50.76</td>\n",
       "    </tr>\n",
       "    <tr>\n",
       "      <th>82</th>\n",
       "      <td>[Nirvana]</td>\n",
       "      <td>9</td>\n",
       "      <td>[4.9]</td>\n",
       "      <td>44.10</td>\n",
       "    </tr>\n",
       "    <tr>\n",
       "      <th>145</th>\n",
       "      <td>[Fiery Glass Crusader]</td>\n",
       "      <td>9</td>\n",
       "      <td>[4.58]</td>\n",
       "      <td>41.22</td>\n",
       "    </tr>\n",
       "    <tr>\n",
       "      <th>108</th>\n",
       "      <td>[Extraction, Quickblade Of Trembling Hands]</td>\n",
       "      <td>9</td>\n",
       "      <td>[3.53]</td>\n",
       "      <td>31.77</td>\n",
       "    </tr>\n",
       "    <tr>\n",
       "      <th>92</th>\n",
       "      <td>[Final Critic]</td>\n",
       "      <td>8</td>\n",
       "      <td>[4.88]</td>\n",
       "      <td>39.04</td>\n",
       "    </tr>\n",
       "  </tbody>\n",
       "</table>\n",
       "</div>"
      ],
      "text/plain": [
       "                                              Item Name  Purchase Count  \\\n",
       "Item ID                                                                   \n",
       "178      [Oathbreaker, Last Hope of the Breaking Storm]              12   \n",
       "82                                            [Nirvana]               9   \n",
       "145                              [Fiery Glass Crusader]               9   \n",
       "108         [Extraction, Quickblade Of Trembling Hands]               9   \n",
       "92                                       [Final Critic]               8   \n",
       "\n",
       "        Item Price  Total Purchase Value  \n",
       "Item ID                                   \n",
       "178         [4.23]                 50.76  \n",
       "82           [4.9]                 44.10  \n",
       "145         [4.58]                 41.22  \n",
       "108         [3.53]                 31.77  \n",
       "92          [4.88]                 39.04  "
      ]
     },
     "execution_count": 93,
     "metadata": {},
     "output_type": "execute_result"
    }
   ],
   "source": [
    "#use prefinal dataframe from prior to step to find most profitable items\n",
    "PopItm_df = PopItm_df.sort_values(['Purchase Count', 'Total Purchase Value'], ascending=False)\n",
    "PopItm_df.head()\n"
   ]
  },
  {
   "cell_type": "code",
   "execution_count": null,
   "metadata": {},
   "outputs": [],
   "source": []
  }
 ],
 "metadata": {
  "anaconda-cloud": {},
  "kernel_info": {
   "name": "python3"
  },
  "kernelspec": {
   "display_name": "Python 3",
   "language": "python",
   "name": "python3"
  },
  "language_info": {
   "codemirror_mode": {
    "name": "ipython",
    "version": 3
   },
   "file_extension": ".py",
   "mimetype": "text/x-python",
   "name": "python",
   "nbconvert_exporter": "python",
   "pygments_lexer": "ipython3",
   "version": "3.7.1"
  },
  "nteract": {
   "version": "0.2.0"
  }
 },
 "nbformat": 4,
 "nbformat_minor": 2
}
